{
 "cells": [
  {
   "cell_type": "markdown",
   "id": "0ef31f40",
   "metadata": {},
   "source": [
    "# Hugging Face Top Datasets Browser (Notebook UI)\n",
    "\n",
    "This notebook displays the most popular Hugging Face datasets with interactive filters and a button-box UI for selection. It uses live API calls:\n",
    "\n",
    "- Metric filters:\n",
    "  - All-time downloads (exact, sorted by total downloads)\n",
    "  - Trending (week) and Trending (month) as proxies for recent popularity\n",
    "- Other useful filters:\n",
    "  - Top N\n",
    "  - Text search (id or pretty name)\n",
    "  - Task category (basic curated set)\n",
    "  - Language (en/de/fr/es/zh/multi)\n",
    "  - Require license metadata\n",
    "  - Require dataset card metadata\n",
    "\n",
    "Select a dataset via the button box to see details, including summary and a link to the Hugging Face page.\n",
    "\n",
    "Note: “Trending (week/month)” uses Hugging Face’s trending API as a proxy for recent downloads because exact per-period download counts are not exposed publicly by the Hub at this time.\n"
   ]
  },
  {
   "cell_type": "markdown",
   "id": "b7bf49ba",
   "metadata": {},
   "source": [
    "## Setup\n",
    "Run the cell below to install dependencies if needed. If you don't see the UI after running the last cell, make sure Jupyter ipywidgets are enabled in your environment."
   ]
  },
  {
   "cell_type": "code",
   "execution_count": 1,
   "id": "8c20a3ea",
   "metadata": {},
   "outputs": [
    {
     "name": "stdout",
     "output_type": "stream",
     "text": [
      "Note: you may need to restart the kernel to use updated packages.\n"
     ]
    }
   ],
   "source": [
    "%pip install -q huggingface_hub ipywidgets requests\n",
    "import ipywidgets as widgets  # ensure widgets import works"
   ]
  },
  {
   "cell_type": "markdown",
   "id": "73f26c5a",
   "metadata": {},
   "source": [
    "## Launch UI\n",
    "The code below imports the UI components and renders the interface. If you edit the module, you can re-run this cell to reload it."
   ]
  },
  {
   "cell_type": "code",
   "execution_count": 2,
   "id": "80cf398a",
   "metadata": {},
   "outputs": [
    {
     "data": {
      "application/vnd.jupyter.widget-view+json": {
       "model_id": "424e13d5c4ec40c8b12bb07d20641c31",
       "version_major": 2,
       "version_minor": 0
      },
      "text/plain": [
       "VBox(children=(HBox(children=(ToggleButtons(description='Metric:', options=('All-time downloads', 'Trending (w…"
      ]
     },
     "metadata": {},
     "output_type": "display_data"
    }
   ],
   "source": [
    "try:\n",
    "    from importlib import reload\n",
    "    import hf_top_datasets_ui as _ui\n",
    "    reload(_ui)\n",
    "except Exception:\n",
    "    import hf_top_datasets_ui as _ui\n",
    "\n",
    "from hf_top_datasets_ui import render_ui\n",
    "render_ui()  # displays the interactive UI\n"
   ]
  },
  {
   "cell_type": "code",
   "execution_count": null,
   "id": "06e1e2ed-39f1-4051-baf2-1f9afaccaeab",
   "metadata": {},
   "outputs": [],
   "source": []
  }
 ],
 "metadata": {
  "kernelspec": {
   "display_name": "Python 3 (ipykernel)",
   "language": "python",
   "name": "python3"
  },
  "language_info": {
   "codemirror_mode": {
    "name": "ipython",
    "version": 3
   },
   "file_extension": ".py",
   "mimetype": "text/x-python",
   "name": "python",
   "nbconvert_exporter": "python",
   "pygments_lexer": "ipython3",
   "version": "3.11.12"
  }
 },
 "nbformat": 4,
 "nbformat_minor": 5
}
